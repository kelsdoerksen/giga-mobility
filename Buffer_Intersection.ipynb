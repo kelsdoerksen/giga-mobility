{
 "cells": [
  {
   "cell_type": "markdown",
   "id": "3622861d",
   "metadata": {},
   "source": [
    "### Intersection Analysis\n",
    "We would like to spatially join the sample point layer with the MapBox mobility polygon layer, retaining the point geometries and grabbing the attributes of the intersecting polygons (i.e. the activity data)\n",
    "\n",
    "Methodology - Surrounding Buffer: mobility information for a user-defined buffer extent surrounding the target with the available MapBox mobility data. "
   ]
  },
  {
   "cell_type": "markdown",
   "id": "83071940",
   "metadata": {},
   "source": [
    "### Imports"
   ]
  },
  {
   "cell_type": "code",
   "execution_count": 21,
   "id": "f24897d3",
   "metadata": {},
   "outputs": [],
   "source": [
    "import pandas as pd\n",
    "from pyproj import Transformer, CRS\n",
    "from shapely.geometry import Point\n",
    "import geopandas as gpd\n",
    "from shapely.ops import transform\n",
    "import mercantile"
   ]
  },
  {
   "cell_type": "markdown",
   "id": "4389f949",
   "metadata": {},
   "source": [
    "### Loading Data"
   ]
  },
  {
   "cell_type": "code",
   "execution_count": 66,
   "id": "a84b203d",
   "metadata": {},
   "outputs": [],
   "source": [
    "# Note: filepaths hard-coded to Kelsey Doerksen's local machine, to update\n",
    "mobility_filepath = '/Users/kelseydoerksen/Desktop/Giga/SchoolMapping/BWA/Mobility'\n",
    "\n",
    "# Loading hourly mobility data\n",
    "hourly_movement_df = pd.read_csv('{}/weekday-weekend-1hour.csv'.format(mobility_filepath))\n",
    "\n",
    "# Loading BWA school geojson data\n",
    "sample_df = gpd.read_file('/Users/kelseydoerksen/Desktop/Giga/SchoolMapping/BWA/BWA_train.geojson')"
   ]
  },
  {
   "cell_type": "markdown",
   "id": "34017cdf",
   "metadata": {},
   "source": [
    "### Defining Functions"
   ]
  },
  {
   "cell_type": "code",
   "execution_count": 23,
   "id": "8a7b6b26",
   "metadata": {},
   "outputs": [],
   "source": [
    "def aeqd_reproj_buffer(center, radius=300):\n",
    "    \"\"\"\n",
    "    # Generate circular boundary around targets of user-specified \n",
    "    (defaut 300m) radius.\n",
    "    Converts center coordinates to AEQD projection,\n",
    "    draws a circle of given radius around the center coordinates,\n",
    "    converts both polygons back to original ESRI:54009\n",
    "    \n",
    "    Args:\n",
    "        center center coordinates of the circle (derived from school location)\n",
    "        radius (integer): circle's radius in meters.\n",
    "    \n",
    "    Returns:\n",
    "        A shapely.geometry Polygon object for circle of given radius.\n",
    "    \"\"\"\n",
    "    lat = center.y\n",
    "    lon = center.x\n",
    "    \n",
    "    esri54009_to_epsg4326 = Transformer.from_crs(\"ESRI:54009\", \"EPSG:4326\", always_xy=True)\n",
    "    epsg4326_to_aeqd = Transformer.from_crs(\"EPSG:4326\", \"ESRI:54032\")\n",
    "    aeqd_to_epsg4326 = Transformer.from_crs(\"ESRI:54032\", \"EPSG:4326\", always_xy=False)\n",
    "\n",
    "    # Transform the center coordinates from 54009 to AEQD\n",
    "    point_epsg4326 = Point(esri54009_to_epsg4326.transform(lon, lat))\n",
    "    point_transformed = Point(epsg4326_to_aeqd.transform(point_epsg4326.x, point_epsg4326.y))\n",
    "    \n",
    "    # Get buffer of defined radius\n",
    "    buffer = point_transformed.buffer(radius)\n",
    "    \n",
    "    # Get the polygon with lat lon coordinates\n",
    "    circle_poly = transform(aeqd_to_epsg4326.transform, buffer)\n",
    "    \n",
    "    return circle_poly"
   ]
  },
  {
   "cell_type": "code",
   "execution_count": 24,
   "id": "68c0c597",
   "metadata": {},
   "outputs": [],
   "source": [
    "# Get a list of the mapbox data that is overlapping the radius extent we specified\n",
    "def generate_quadkeys(circle_poly, zoom):\n",
    "    \"\"\"\n",
    "    Generate a list of quadkeys that overlap our circles\n",
    "    Args:\n",
    "        circle_poly (shapely.geometry Polygon): circle polygon object drawn \n",
    "            around a school/non-school\n",
    "        zoom (integer): zoom level.\n",
    "        \n",
    "    Return:\n",
    "        List of quadkeys as string\n",
    "    \"\"\"\n",
    "    return [mercantile.quadkey(x) for x in mercantile.tiles(*circle_poly.bounds, zoom)]"
   ]
  },
  {
   "cell_type": "code",
   "execution_count": 25,
   "id": "1b379946",
   "metadata": {},
   "outputs": [],
   "source": [
    "def add_movement_data_buffer(sample_df, mobility_df):\n",
    "    \"\"\"\n",
    "    Adding mobility data based on quadkey intersections for buffer analysis\n",
    "    \"\"\"\n",
    "    full_data = []\n",
    "    for i in range(len(sample_df)):\n",
    "        data_list = []\n",
    "        for z18_quadkey in sample_df.loc[i][\"z18_quadkeys\"]:\n",
    "            data_list.append(mobility_df[mobility_df[\"geography\"] == int(z18_quadkey)])\n",
    "        data_df = pd.concat(data_list)\n",
    "        # Adding back the information we want retained from the sample dataframe\n",
    "        data_df['UID'] = sample_df.loc[i]['UID']\n",
    "        data_df['name'] = sample_df.loc[i]['name']\n",
    "        data_df['class'] = sample_df.loc[i]['class']\n",
    "        data_df['source'] = sample_df.loc[i]['source']\n",
    "        data_df['ghsl_smod'] = sample_df.loc[i]['ghsl_smod']\n",
    "        data_df['rurban'] = sample_df.loc[i]['rurban']\n",
    "        data_df['dataset'] = sample_df.loc[i]['dataset']\n",
    "        data_df['geometry'] = sample_df.loc[i]['geometry']\n",
    "        full_data.append(data_df)\n",
    "    \n",
    "    if full_data:\n",
    "        full_df = pd.concat(full_data)\n",
    "        return full_df"
   ]
  },
  {
   "cell_type": "code",
   "execution_count": 36,
   "id": "a41a67d2",
   "metadata": {},
   "outputs": [],
   "source": [
    "def combine_hourly_stat_ai(df, time_period):\n",
    "    \"\"\"\n",
    "    Aggregate movement data to hourly sum based on \n",
    "    quadkeys that intersect with user-defined buffer\n",
    "    and calculate the hourly average ai over \n",
    "    the time period for all of the samples\n",
    "    :param: df: dataframe of aoi + mobility data to aggregate\n",
    "    :time_period: weekday (0) or weekend(1) MapBox data\n",
    "    \"\"\"\n",
    "    grouped = df.groupby(['UID', 'agg_day_period', 'agg_time_period', 'start_date', 'end_date', 'class', 'source', 'ghsl_smod', 'rurban', 'dataset'])\n",
    "    sum_data = grouped['activity_index_total'].sum()\n",
    "    sum_df = sum_data.reset_index()\n",
    "    return sum_df"
   ]
  },
  {
   "cell_type": "markdown",
   "id": "27b25e54",
   "metadata": {},
   "source": [
    "## Stepping through buffer intersection\n",
    "Steps to use the buffer analysis:\n",
    "1. Add circular buffer of user-defined radius extent to dataframe of samples\n",
    "2. Get list of Mapbox Quadkeys that intersect with the buffer surrounding samples\n",
    "3. Add mobility data where Mapbox intersects buffer"
   ]
  },
  {
   "cell_type": "code",
   "execution_count": 68,
   "id": "e6153d06",
   "metadata": {},
   "outputs": [],
   "source": [
    "# Add circular buffer\n",
    "sample_df['aeqd_reproj_circle'] = sample_df['geometry'].apply(aeqd_reproj_buffer)"
   ]
  },
  {
   "cell_type": "code",
   "execution_count": 69,
   "id": "87a7cd7e",
   "metadata": {},
   "outputs": [],
   "source": [
    "# Get list of Mapbox Quadkeys\n",
    "sample_df['z18_quadkeys'] = sample_df.apply(lambda x: generate_quadkeys(x['aeqd_reproj_circle'], 18),axis=1)"
   ]
  },
  {
   "cell_type": "code",
   "execution_count": null,
   "id": "ac2c105b",
   "metadata": {},
   "outputs": [],
   "source": [
    "# Add mobility data at intersection\n",
    "samples_with_mobility = add_movement_data_buffer(sample_df, hourly_movement_df)"
   ]
  },
  {
   "cell_type": "code",
   "execution_count": null,
   "id": "29037341",
   "metadata": {},
   "outputs": [],
   "source": [
    "# Group together\n",
    "samples_with_mobility_grouped = add_movement_data_buffer(samples_with_mobility, hourly_movement_df)"
   ]
  },
  {
   "cell_type": "code",
   "execution_count": null,
   "id": "95f90267",
   "metadata": {},
   "outputs": [],
   "source": [
    "samples_with_mobility_grouped.to_csv('/Users/kelseydoerksen/Desktop/Giga/SchoolMapping/BWA/Mobility/sample_df_mobility_300m_buffer.csv')"
   ]
  },
  {
   "cell_type": "code",
   "execution_count": 72,
   "id": "610b91e6",
   "metadata": {},
   "outputs": [
    {
     "name": "stderr",
     "output_type": "stream",
     "text": [
      "/var/folders/45/0gt2k_f526x1p6241p2jbczr0000gn/T/ipykernel_24612/3313104737.py:1: DtypeWarning: Columns (11) have mixed types. Specify dtype option on import or set low_memory=False.\n",
      "  df = pd.read_csv('/Users/kelseydoerksen/Desktop/Giga/SchoolMapping/BWA/Mobility/sample_df_mobility_300m_buffer.csv')\n"
     ]
    }
   ],
   "source": [
    "df = pd.read_csv('/Users/kelseydoerksen/Desktop/Giga/SchoolMapping/BWA/Mobility/sample_df_mobility_300m_buffer.csv')"
   ]
  }
 ],
 "metadata": {
  "kernelspec": {
   "display_name": "Python 3 (ipykernel)",
   "language": "python",
   "name": "python3"
  },
  "language_info": {
   "codemirror_mode": {
    "name": "ipython",
    "version": 3
   },
   "file_extension": ".py",
   "mimetype": "text/x-python",
   "name": "python",
   "nbconvert_exporter": "python",
   "pygments_lexer": "ipython3",
   "version": "3.10.9"
  }
 },
 "nbformat": 4,
 "nbformat_minor": 5
}
