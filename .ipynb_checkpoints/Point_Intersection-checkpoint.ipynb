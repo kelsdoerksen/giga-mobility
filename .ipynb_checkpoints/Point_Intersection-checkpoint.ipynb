{
 "cells": [
  {
   "cell_type": "markdown",
   "id": "ab9b9fb2",
   "metadata": {},
   "source": [
    "### Intersection Analysis\n",
    "We would like to spatially join the sample point layer with the MapBox mobility polygon layer, retaining the point geometries and grabbing the attributes of the intersecting polygons (i.e. the activity data). \n",
    "\n",
    "This notebook includes the the methodology of Point Intersection: mobility information is added if the target sample directly intersects with the available MapBox mobility data, or takes the nearest mobility data point to the sample."
   ]
  },
  {
   "cell_type": "markdown",
   "id": "d745d9ae",
   "metadata": {},
   "source": [
    "### Imports"
   ]
  },
  {
   "cell_type": "code",
   "execution_count": 1,
   "id": "69a69d2d",
   "metadata": {},
   "outputs": [],
   "source": [
    "import pandas as pd\n",
    "import mercantile\n",
    "import geopandas as gpd\n",
    "from shapely.geometry import Point, Polygon"
   ]
  },
  {
   "cell_type": "markdown",
   "id": "bc54941b",
   "metadata": {},
   "source": [
    "### Loading Data"
   ]
  },
  {
   "cell_type": "code",
   "execution_count": 2,
   "id": "c446b8f4",
   "metadata": {},
   "outputs": [],
   "source": [
    "# Note: filepaths hard-coded to Kelsey Doerksen's local machine, to update\n",
    "mobility_filepath = '/Users/kelseydoerksen/Desktop/Giga/SchoolMapping/BWA/Mobility'\n",
    "\n",
    "# Loading hourly mobility data\n",
    "hourly_movement_df = pd.read_csv('{}/weekday-weekend-1hour.csv'.format(mobility_filepath))\n",
    "\n",
    "# Loading BWA school geojson data\n",
    "sample_df = gpd.read_file('/Users/kelseydoerksen/Desktop/Giga/SchoolMapping/BWA/BWA_train.geojson')"
   ]
  },
  {
   "cell_type": "markdown",
   "id": "c89de463",
   "metadata": {},
   "source": [
    "### Defining Functions"
   ]
  },
  {
   "cell_type": "code",
   "execution_count": 3,
   "id": "5a9092b6",
   "metadata": {},
   "outputs": [],
   "source": [
    "def get_polygon_from_tile(geography):\n",
    "    \"\"\"\n",
    "    Converts the mercantile quadkey to polygon\n",
    "    \n",
    "    Args:\n",
    "        df: dataframe \n",
    "    \"\"\"\n",
    "    tile = mercantile.quadkey_to_tile(str(geography))\n",
    "    return Polygon(mercantile.feature(tile)['geometry']['coordinates'][0])"
   ]
  },
  {
   "cell_type": "code",
   "execution_count": 4,
   "id": "ea3a862e",
   "metadata": {},
   "outputs": [],
   "source": [
    "def add_mobility_data_intersection(movement_df, aoi_df):\n",
    "    \"\"\"\n",
    "    Adds movement data to the school df\n",
    "    :param: movement_df: dataframe of MapBox mobility data\n",
    "    :param: aoi_df: df of aoi targets\n",
    "    \n",
    "    :return: aoi_df_with_mobility: df with added mobility data per aoi\n",
    "    \"\"\"\n",
    "    # Add mercantile tile as polygon to movement df\n",
    "    movement_df['mercantile_polygon'] = movement_df['geography'].apply(get_polygon_from_tile)\n",
    "    # Change name to geometry\n",
    "    movement_df = movement_df.rename(columns={'mercantile_polygon': 'geometry'})\n",
    "    # Transform mobility data to gpd\n",
    "    movement_gdf = gpd.GeoDataFrame(movement_df, crs=\"EPSG:4326\")\n",
    "    \n",
    "    if 'geo' in aoi_df.columns:\n",
    "        aoi_df = aoi_df.rename(columns={'geo': 'geometry'})\n",
    "        aoi_df.set_geometry(\"geometry\")\n",
    "\n",
    "    # Combine aoi samples with mobility data\n",
    "    aoi_df = aoi_df.to_crs('EPSG:4326')\n",
    "    aoi_with_mobility = aoi_df.sjoin(movement_gdf, how='left')\n",
    "\n",
    "    # Drop if aoi does not intersect with available MapBox mobility data\n",
    "    aoi_with_mobility = aoi_with_mobility.dropna(subset=[\"geography\"])\n",
    "    \n",
    "    return aoi_with_mobility"
   ]
  },
  {
   "cell_type": "code",
   "execution_count": 5,
   "id": "ab66c881",
   "metadata": {},
   "outputs": [],
   "source": [
    "def add_mobility_aoi_nearest(mobility_df, aoi_df):\n",
    "    \"\"\"\n",
    "    Add the mobility data point for closest data to aoi\n",
    "    :param: mobility_df: dataframe of mobility data\n",
    "    :param: aoi_df: df of samples\n",
    "    \n",
    "    :return: \n",
    "    \"\"\"\n",
    "    # Making some copies of the mobility, aoi df so we can manipulate without impacting original\n",
    "    mobility_df = mobility_df.copy(deep=True)\n",
    "    aoi_gpd = aoi_df.copy(deep=True)\n",
    "    \n",
    "    # Add mercantile information to mobility gpd so we can get polygon\n",
    "    mobility_df['mercantile_polygon'] = hourly_movement_df['geography'].apply(get_polygon_from_tile)\n",
    "    mobility_df = mobility_df.rename(columns={'mercantile_polygon': 'geometry'})\n",
    "    mobility_gpd = gpd.GeoDataFrame(mobility_df, crs='EPSG:4326')\n",
    "    \n",
    "    \n",
    "    # Update CRS so that we can calculate nearest point\n",
    "    aoi_gpd = aoi_gpd.to_crs('EPSG:3857')\n",
    "    mobility_gpd = mobility_gpd.to_crs('EPSG:3857')\n",
    "\n",
    "    combo_df = gpd.sjoin_nearest(mobility_gpd, aoi_gpd, how='left', distance_col = 'dist_to_mobility')\n",
    "    \n",
    "    # Get T/F mobility intersection as 0/1 for filtering and to teach model as feature\n",
    "    intersected = combo_df['dist_to_mobility'] == 0\n",
    "    combo_df['intersecting_mobility'] = intersected.astype(int)\n",
    "    \n",
    "    return combo_df"
   ]
  },
  {
   "cell_type": "markdown",
   "id": "22555d00",
   "metadata": {},
   "source": [
    "## Stepping Through Point Intersection Script\n",
    "Below shows two options:\n",
    "1. Direct intersection of school/non-school with Mapbox quadkey\n",
    "2. Nearest Mapbox measurement to school/non-school"
   ]
  },
  {
   "cell_type": "code",
   "execution_count": 6,
   "id": "cb14e69a",
   "metadata": {},
   "outputs": [],
   "source": [
    "# Direct intersection\n",
    "sample_df_with_mobility_inter = add_mobility_data_intersection(hourly_movement_df, sample_df)"
   ]
  },
  {
   "cell_type": "code",
   "execution_count": 7,
   "id": "abd2606c",
   "metadata": {},
   "outputs": [],
   "source": [
    "# Nearest point to sample\n",
    "sample_df_with_mobility_nearest = add_mobility_aoi_nearest(hourly_movement_df, sample_df)"
   ]
  },
  {
   "cell_type": "code",
   "execution_count": 18,
   "id": "7f07c059",
   "metadata": {},
   "outputs": [],
   "source": [
    "# Save\n",
    "sample_df_with_mobility_nearest.to_csv('/Users/kelseydoerksen/Desktop/Giga/SchoolMapping/BWA/sample_df_mobility_nearest.csv')\n",
    "sample_df_with_mobility_inter.to_csv('/Users/kelseydoerksen/Desktop/Giga/SchoolMapping/BWA/sample_df_mobility_inter.csv')"
   ]
  }
 ],
 "metadata": {
  "kernelspec": {
   "display_name": "Python 3 (ipykernel)",
   "language": "python",
   "name": "python3"
  },
  "language_info": {
   "codemirror_mode": {
    "name": "ipython",
    "version": 3
   },
   "file_extension": ".py",
   "mimetype": "text/x-python",
   "name": "python",
   "nbconvert_exporter": "python",
   "pygments_lexer": "ipython3",
   "version": "3.10.9"
  }
 },
 "nbformat": 4,
 "nbformat_minor": 5
}
